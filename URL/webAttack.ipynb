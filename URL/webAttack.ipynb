{
 "cells": [
  {
   "cell_type": "markdown",
   "id": "2457a44d",
   "metadata": {},
   "source": [
    "# Deep Learning Based System For Web Attack Detection"
   ]
  },
  {
   "cell_type": "markdown",
   "id": "0a8cfd0d",
   "metadata": {},
   "source": [
    "# Importing essential libraries"
   ]
  },
  {
   "cell_type": "code",
   "execution_count": 1,
   "id": "04f571a5",
   "metadata": {},
   "outputs": [],
   "source": [
    "# Importing essential libraries\n",
    "import numpy as np\n",
    "\n",
    "import pandas as pd\n",
    "\n",
    "from sklearn.metrics import accuracy_score, confusion_matrix, classification_report\n",
    "\n",
    "from sklearn.model_selection import train_test_split\n",
    "\n",
    "from sklearn.linear_model import LogisticRegression\n",
    "\n",
    "from sklearn.neighbors import KNeighborsClassifier\n",
    "\n",
    "from sklearn.ensemble import RandomForestClassifier"
   ]
  },
  {
   "cell_type": "markdown",
   "id": "cd1bbae2",
   "metadata": {},
   "source": [
    "# Accessing dataset"
   ]
  },
  {
   "cell_type": "code",
   "execution_count": 2,
   "id": "c686122b",
   "metadata": {},
   "outputs": [],
   "source": [
    "db = pd.read_csv('dataset.csv')"
   ]
  },
  {
   "cell_type": "code",
   "execution_count": null,
   "id": "552ab00f",
   "metadata": {},
   "outputs": [],
   "source": [
    "db.head()"
   ]
  },
  {
   "cell_type": "code",
   "execution_count": null,
   "id": "4e3c4dc1",
   "metadata": {},
   "outputs": [],
   "source": [
    "db.shape"
   ]
  },
  {
   "cell_type": "code",
   "execution_count": null,
   "id": "5e8c827e",
   "metadata": {},
   "outputs": [],
   "source": [
    "db.columns"
   ]
  },
  {
   "cell_type": "markdown",
   "id": "0d665acd",
   "metadata": {},
   "source": [
    "# Cleaning and formating data's column names and, removing non-numeric columns"
   ]
  },
  {
   "cell_type": "code",
   "execution_count": 3,
   "id": "b8b5bcfc",
   "metadata": {},
   "outputs": [],
   "source": [
    "# dataset.columns = dataset.columns.str.strip()\n",
    "# dataset.columns = dataset.columns.str.lower()\n",
    "\n",
    "db.columns = db.columns.\\\n",
    "    str.strip().\\\n",
    "    str.lower()"
   ]
  },
  {
   "cell_type": "code",
   "execution_count": 4,
   "id": "3d822b8c",
   "metadata": {},
   "outputs": [],
   "source": [
    "db = db.select_dtypes(['number'])"
   ]
  },
  {
   "cell_type": "code",
   "execution_count": 5,
   "id": "82743479",
   "metadata": {},
   "outputs": [
    {
     "data": {
      "text/html": [
       "<div>\n",
       "<style scoped>\n",
       "    .dataframe tbody tr th:only-of-type {\n",
       "        vertical-align: middle;\n",
       "    }\n",
       "\n",
       "    .dataframe tbody tr th {\n",
       "        vertical-align: top;\n",
       "    }\n",
       "\n",
       "    .dataframe thead th {\n",
       "        text-align: right;\n",
       "    }\n",
       "</style>\n",
       "<table border=\"1\" class=\"dataframe\">\n",
       "  <thead>\n",
       "    <tr style=\"text-align: right;\">\n",
       "      <th></th>\n",
       "      <th>url_length</th>\n",
       "      <th>number_special_characters</th>\n",
       "      <th>content_length</th>\n",
       "      <th>tcp_conversation_exchange</th>\n",
       "      <th>dist_remote_tcp_port</th>\n",
       "      <th>remote_ips</th>\n",
       "      <th>app_bytes</th>\n",
       "      <th>source_app_packets</th>\n",
       "      <th>remote_app_packets</th>\n",
       "      <th>source_app_bytes</th>\n",
       "      <th>remote_app_bytes</th>\n",
       "      <th>app_packets</th>\n",
       "      <th>dns_query_times</th>\n",
       "      <th>type</th>\n",
       "    </tr>\n",
       "  </thead>\n",
       "  <tbody>\n",
       "    <tr>\n",
       "      <th>0</th>\n",
       "      <td>16</td>\n",
       "      <td>7</td>\n",
       "      <td>263.0</td>\n",
       "      <td>7</td>\n",
       "      <td>0</td>\n",
       "      <td>2</td>\n",
       "      <td>700</td>\n",
       "      <td>9</td>\n",
       "      <td>10</td>\n",
       "      <td>1153</td>\n",
       "      <td>832</td>\n",
       "      <td>9</td>\n",
       "      <td>2.0</td>\n",
       "      <td>1</td>\n",
       "    </tr>\n",
       "    <tr>\n",
       "      <th>1</th>\n",
       "      <td>16</td>\n",
       "      <td>6</td>\n",
       "      <td>15087.0</td>\n",
       "      <td>17</td>\n",
       "      <td>7</td>\n",
       "      <td>4</td>\n",
       "      <td>1230</td>\n",
       "      <td>17</td>\n",
       "      <td>19</td>\n",
       "      <td>1265</td>\n",
       "      <td>1230</td>\n",
       "      <td>17</td>\n",
       "      <td>0.0</td>\n",
       "      <td>0</td>\n",
       "    </tr>\n",
       "    <tr>\n",
       "      <th>2</th>\n",
       "      <td>16</td>\n",
       "      <td>6</td>\n",
       "      <td>324.0</td>\n",
       "      <td>0</td>\n",
       "      <td>0</td>\n",
       "      <td>0</td>\n",
       "      <td>0</td>\n",
       "      <td>0</td>\n",
       "      <td>0</td>\n",
       "      <td>0</td>\n",
       "      <td>0</td>\n",
       "      <td>0</td>\n",
       "      <td>0.0</td>\n",
       "      <td>0</td>\n",
       "    </tr>\n",
       "    <tr>\n",
       "      <th>3</th>\n",
       "      <td>17</td>\n",
       "      <td>6</td>\n",
       "      <td>162.0</td>\n",
       "      <td>31</td>\n",
       "      <td>22</td>\n",
       "      <td>3</td>\n",
       "      <td>3812</td>\n",
       "      <td>39</td>\n",
       "      <td>37</td>\n",
       "      <td>18784</td>\n",
       "      <td>4380</td>\n",
       "      <td>39</td>\n",
       "      <td>8.0</td>\n",
       "      <td>0</td>\n",
       "    </tr>\n",
       "    <tr>\n",
       "      <th>4</th>\n",
       "      <td>17</td>\n",
       "      <td>6</td>\n",
       "      <td>124140.0</td>\n",
       "      <td>57</td>\n",
       "      <td>2</td>\n",
       "      <td>5</td>\n",
       "      <td>4278</td>\n",
       "      <td>61</td>\n",
       "      <td>62</td>\n",
       "      <td>129889</td>\n",
       "      <td>4586</td>\n",
       "      <td>61</td>\n",
       "      <td>4.0</td>\n",
       "      <td>0</td>\n",
       "    </tr>\n",
       "  </tbody>\n",
       "</table>\n",
       "</div>"
      ],
      "text/plain": [
       "   url_length  number_special_characters  content_length  \\\n",
       "0          16                          7           263.0   \n",
       "1          16                          6         15087.0   \n",
       "2          16                          6           324.0   \n",
       "3          17                          6           162.0   \n",
       "4          17                          6        124140.0   \n",
       "\n",
       "   tcp_conversation_exchange  dist_remote_tcp_port  remote_ips  app_bytes  \\\n",
       "0                          7                     0           2        700   \n",
       "1                         17                     7           4       1230   \n",
       "2                          0                     0           0          0   \n",
       "3                         31                    22           3       3812   \n",
       "4                         57                     2           5       4278   \n",
       "\n",
       "   source_app_packets  remote_app_packets  source_app_bytes  remote_app_bytes  \\\n",
       "0                   9                  10              1153               832   \n",
       "1                  17                  19              1265              1230   \n",
       "2                   0                   0                 0                 0   \n",
       "3                  39                  37             18784              4380   \n",
       "4                  61                  62            129889              4586   \n",
       "\n",
       "   app_packets  dns_query_times  type  \n",
       "0            9              2.0     1  \n",
       "1           17              0.0     0  \n",
       "2            0              0.0     0  \n",
       "3           39              8.0     0  \n",
       "4           61              4.0     0  "
      ]
     },
     "execution_count": 5,
     "metadata": {},
     "output_type": "execute_result"
    }
   ],
   "source": [
    "db.head()"
   ]
  },
  {
   "cell_type": "code",
   "execution_count": null,
   "id": "62771ccc",
   "metadata": {},
   "outputs": [],
   "source": [
    "db.columns"
   ]
  },
  {
   "cell_type": "markdown",
   "id": "054292bc",
   "metadata": {},
   "source": [
    "# Extracting dependent and independent variable"
   ]
  },
  {
   "cell_type": "code",
   "execution_count": 6,
   "id": "5eae1cdf",
   "metadata": {},
   "outputs": [
    {
     "name": "stdout",
     "output_type": "stream",
     "text": [
      "url_length\n",
      "number_special_characters\n",
      "content_length\n",
      "tcp_conversation_exchange\n",
      "dist_remote_tcp_port\n",
      "remote_ips\n",
      "app_bytes\n",
      "source_app_packets\n",
      "remote_app_packets\n",
      "source_app_bytes\n",
      "remote_app_bytes\n",
      "app_packets\n",
      "dns_query_times\n"
     ]
    }
   ],
   "source": [
    "# Feature extraction\n",
    "\n",
    "x = db.drop(['type'], axis = 1)\n",
    "y = db['type']\n",
    "\n",
    "for cols in x.columns:\n",
    "    print(cols)\n",
    "    \n",
    "# Replace nan with zero and inf with finite numbers\n",
    "x = np.nan_to_num(x)\n"
   ]
  },
  {
   "cell_type": "code",
   "execution_count": null,
   "id": "6cdd8376",
   "metadata": {},
   "outputs": [],
   "source": [
    "print(x)\n",
    "print(y)"
   ]
  },
  {
   "cell_type": "markdown",
   "id": "411ae30f",
   "metadata": {},
   "source": [
    "# Input data visualization"
   ]
  },
  {
   "cell_type": "code",
   "execution_count": 7,
   "id": "d359b168",
   "metadata": {},
   "outputs": [],
   "source": [
    "# Splitting the data into Training and Testing datasets\n",
    "\n",
    "x_train, x_test, y_train, y_test = train_test_split(x, y, test_size = 1/3, random_state = 44)"
   ]
  },
  {
   "cell_type": "code",
   "execution_count": 8,
   "id": "788ba9d0",
   "metadata": {},
   "outputs": [],
   "source": [
    "# Applying Logistic Regression\n",
    "\n",
    "classifier = LogisticRegression(random_state = 42, max_iter = 50000)\n",
    "classifier.fit(x_train, y_train)\n",
    "\n",
    "prediction = classifier.predict(x_test)"
   ]
  },
  {
   "cell_type": "code",
   "execution_count": 9,
   "id": "ed300b6b",
   "metadata": {},
   "outputs": [
    {
     "name": "stdout",
     "output_type": "stream",
     "text": [
      "For Logistic Regression accuracy score is  0.9175084175084175\n",
      "For Logistic Regression confusion_matrix is: \n",
      "\n",
      " [[504  10]\n",
      " [ 39  41]]\n",
      "For Logistic Regression Classification Report: \n",
      "\n",
      "                precision    recall  f1-score   support\n",
      "\n",
      "           0       0.93      0.98      0.95       514\n",
      "           1       0.80      0.51      0.63        80\n",
      "\n",
      "    accuracy                           0.92       594\n",
      "   macro avg       0.87      0.75      0.79       594\n",
      "weighted avg       0.91      0.92      0.91       594\n",
      "\n"
     ]
    }
   ],
   "source": [
    "# Calculate accuracy for logistic regression\n",
    "\n",
    "print('For Logistic Regression accuracy score is ', accuracy_score(y_test, prediction))\n",
    "print('For Logistic Regression confusion_matrix is: \\n\\n', confusion_matrix(y_test, prediction))\n",
    "print('For Logistic Regression Classification Report: \\n\\n ', classification_report(y_test, prediction))"
   ]
  },
  {
   "cell_type": "code",
   "execution_count": 10,
   "id": "9c35b054",
   "metadata": {},
   "outputs": [],
   "source": [
    "# Applying KNN\n",
    "\n",
    "classifier2=KNeighborsClassifier(n_neighbors=5,metric='minkowski',p=2)\n",
    "classifier2.fit(x_train,y_train)\n",
    "\n",
    "prediction2=classifier2.predict(x_test)"
   ]
  },
  {
   "cell_type": "code",
   "execution_count": 11,
   "id": "5c701dc4",
   "metadata": {},
   "outputs": [
    {
     "name": "stdout",
     "output_type": "stream",
     "text": [
      "For KNN accuracy score is  0.9191919191919192\n",
      "For  KNN confusion_matrix is: \n",
      "\n",
      " [[497  17]\n",
      " [ 31  49]]\n",
      "For  KNN Classification Report: \n",
      "\n",
      "               precision    recall  f1-score   support\n",
      "\n",
      "           0       0.94      0.97      0.95       514\n",
      "           1       0.74      0.61      0.67        80\n",
      "\n",
      "    accuracy                           0.92       594\n",
      "   macro avg       0.84      0.79      0.81       594\n",
      "weighted avg       0.91      0.92      0.92       594\n",
      "\n"
     ]
    }
   ],
   "source": [
    "# Calculating accuracy for KNN\n",
    "\n",
    "print('For KNN accuracy score is ', accuracy_score(y_test, prediction2))\n",
    "print('For  KNN confusion_matrix is: \\n\\n', confusion_matrix(y_test, prediction2))\n",
    "print ('For  KNN Classification Report: \\n\\n', classification_report(y_test,prediction2))"
   ]
  },
  {
   "cell_type": "code",
   "execution_count": 12,
   "id": "75bd8188",
   "metadata": {},
   "outputs": [],
   "source": [
    "# Applying Random forest\n",
    "\n",
    "rfc=RandomForestClassifier(n_estimators = 100)\n",
    "rfc.fit(x_train, y_train)\n",
    "\n",
    "prediction3 = rfc.predict(x_test)"
   ]
  },
  {
   "cell_type": "code",
   "execution_count": 13,
   "id": "08989abd",
   "metadata": {},
   "outputs": [
    {
     "name": "stdout",
     "output_type": "stream",
     "text": [
      "For Random Forest accuracy score is  0.9579124579124579\n",
      "For Random Forest confusion_matrix is: \n",
      "\n",
      " [[507   7]\n",
      " [ 18  62]]\n",
      "For Random Forest Classification Report: \n",
      "\n",
      "               precision    recall  f1-score   support\n",
      "\n",
      "           0       0.97      0.99      0.98       514\n",
      "           1       0.90      0.78      0.83        80\n",
      "\n",
      "    accuracy                           0.96       594\n",
      "   macro avg       0.93      0.88      0.90       594\n",
      "weighted avg       0.96      0.96      0.96       594\n",
      "\n"
     ]
    }
   ],
   "source": [
    "# Calculating accuracy for random forest\n",
    "#Classification Report\n",
    "\n",
    "print('For Random Forest accuracy score is ', accuracy_score(y_test,prediction3))\n",
    "print('For Random Forest confusion_matrix is: \\n\\n', confusion_matrix(y_test,prediction3))\n",
    "print ('For Random Forest Classification Report: \\n\\n', classification_report(y_test,prediction3))"
   ]
  },
  {
   "cell_type": "code",
   "execution_count": 14,
   "id": "27c24d57",
   "metadata": {},
   "outputs": [],
   "source": [
    "# Logistic Regression - 92%\n",
    "# KNN - 92%\n",
    "# Random forest accuracy - 96%"
   ]
  },
  {
   "cell_type": "code",
   "execution_count": 16,
   "id": "482aef40",
   "metadata": {},
   "outputs": [
    {
     "name": "stdout",
     "output_type": "stream",
     "text": [
      "[1]\n",
      "No Url attack on the website.\n"
     ]
    }
   ],
   "source": [
    "ip_data = (16, 7, 263, 7, 0, 2, 700, 9, 10, 1153, 832, 9, 2) #1\n",
    "#ip_data = (17,6,162,31,22,3,3812,39,37,18784,4380,39,8) #0\n",
    "\n",
    "\n",
    "ip_data_np = np.asarray(ip_data)\n",
    "ip_data_reshape = ip_data_np.reshape(1, -1)\n",
    "\n",
    "# Assuming rfc is your trained RandomForestClassifier\n",
    "pred = rfc.predict(ip_data_reshape)\n",
    "print(pred)\n",
    "\n",
    "if pred[0] == 0:\n",
    "    print(\"Url attack on the website.\")\n",
    "else:\n",
    "    print(\"No Url attack on the website.\")\n"
   ]
  },
  {
   "cell_type": "code",
   "execution_count": null,
   "id": "ab605638",
   "metadata": {},
   "outputs": [],
   "source": []
  },
  {
   "cell_type": "code",
   "execution_count": 17,
   "id": "98bb78c1",
   "metadata": {},
   "outputs": [],
   "source": [
    "import pickle"
   ]
  },
  {
   "cell_type": "code",
   "execution_count": 18,
   "id": "39a20e3d",
   "metadata": {},
   "outputs": [],
   "source": [
    "filename = \"url_attack.sav\"\n",
    "pickle.dump(rfc, open(filename, \"wb\"))"
   ]
  },
  {
   "cell_type": "code",
   "execution_count": 19,
   "id": "97037433",
   "metadata": {},
   "outputs": [
    {
     "name": "stdout",
     "output_type": "stream",
     "text": [
      "[0]\n",
      "Url attack on the website.\n"
     ]
    }
   ],
   "source": [
    "#ip_data = (16, 7, 263, 7, 0, 2, 700, 9, 10, 1153, 832, 9, 2) #1\n",
    "ip_data = (17,6,162,31,22,3,3812,39,37,18784,4380,39,8) #0\n",
    "\n",
    "ip_data_np = np.asarray(ip_data)\n",
    "ip_data_reshape = ip_data_np.reshape(1, -1)\n",
    "\n",
    "prediction = rfc.predict(ip_data_reshape)\n",
    "print(prediction)\n",
    "\n",
    "if (prediction[0] == 0.0):\n",
    "    print(\"Url attack on the website.\")\n",
    "else:\n",
    "    print(\"No Url attack on the website.\")"
   ]
  },
  {
   "cell_type": "code",
   "execution_count": null,
   "id": "c454d0c0",
   "metadata": {},
   "outputs": [],
   "source": []
  },
  {
   "cell_type": "code",
   "execution_count": null,
   "id": "085d8d37",
   "metadata": {},
   "outputs": [],
   "source": []
  },
  {
   "cell_type": "code",
   "execution_count": null,
   "id": "039ca8e5",
   "metadata": {},
   "outputs": [],
   "source": []
  },
  {
   "cell_type": "code",
   "execution_count": null,
   "id": "976f8555",
   "metadata": {},
   "outputs": [],
   "source": []
  },
  {
   "cell_type": "code",
   "execution_count": null,
   "id": "76e7b930",
   "metadata": {},
   "outputs": [],
   "source": []
  },
  {
   "cell_type": "code",
   "execution_count": null,
   "id": "34d62a5f",
   "metadata": {},
   "outputs": [],
   "source": []
  },
  {
   "cell_type": "code",
   "execution_count": null,
   "id": "85cec3a4",
   "metadata": {},
   "outputs": [],
   "source": []
  }
 ],
 "metadata": {
  "kernelspec": {
   "display_name": "Python 3 (ipykernel)",
   "language": "python",
   "name": "python3"
  },
  "language_info": {
   "codemirror_mode": {
    "name": "ipython",
    "version": 3
   },
   "file_extension": ".py",
   "mimetype": "text/x-python",
   "name": "python",
   "nbconvert_exporter": "python",
   "pygments_lexer": "ipython3",
   "version": "3.11.5"
  }
 },
 "nbformat": 4,
 "nbformat_minor": 5
}
