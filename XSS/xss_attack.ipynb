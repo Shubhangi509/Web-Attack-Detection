{
 "cells": [
  {
   "cell_type": "code",
   "execution_count": null,
   "id": "44ab1b11",
   "metadata": {},
   "outputs": [],
   "source": [
    "# !pip install openpyxl\n",
    "# !pip install scikit-learn"
   ]
  },
  {
   "cell_type": "code",
   "execution_count": 1,
   "id": "f54cef9a",
   "metadata": {},
   "outputs": [],
   "source": [
    "import pandas as pd\n",
    "import numpy as np"
   ]
  },
  {
   "cell_type": "code",
   "execution_count": 2,
   "id": "3fd65bd1",
   "metadata": {},
   "outputs": [
    {
     "data": {
      "text/html": [
       "<div>\n",
       "<style scoped>\n",
       "    .dataframe tbody tr th:only-of-type {\n",
       "        vertical-align: middle;\n",
       "    }\n",
       "\n",
       "    .dataframe tbody tr th {\n",
       "        vertical-align: top;\n",
       "    }\n",
       "\n",
       "    .dataframe thead th {\n",
       "        text-align: right;\n",
       "    }\n",
       "</style>\n",
       "<table border=\"1\" class=\"dataframe\">\n",
       "  <thead>\n",
       "    <tr style=\"text-align: right;\">\n",
       "      <th></th>\n",
       "      <th>App Names</th>\n",
       "      <th>Permissions</th>\n",
       "      <th>API Name</th>\n",
       "      <th>Website Name</th>\n",
       "      <th>IP</th>\n",
       "      <th>Location</th>\n",
       "      <th>Label</th>\n",
       "    </tr>\n",
       "  </thead>\n",
       "  <tbody>\n",
       "    <tr>\n",
       "      <th>0</th>\n",
       "      <td>XSSDetector</td>\n",
       "      <td>INTERNET,READ_CONTACTS,ACCESS_FINE_LOCATION,AC...</td>\n",
       "      <td>getDeviceId</td>\n",
       "      <td>http://www.5riversmarketing.com/</td>\n",
       "      <td>104.243.40.3</td>\n",
       "      <td>USA - Florida</td>\n",
       "      <td>Yes</td>\n",
       "    </tr>\n",
       "    <tr>\n",
       "      <th>1</th>\n",
       "      <td>Attackers 2</td>\n",
       "      <td>INTERNET,READ_CONTACTS,ACCESS_FINE_LOCATION,AC...</td>\n",
       "      <td>getSimSerialNumber</td>\n",
       "      <td>http://www.5riversmarketing.com/</td>\n",
       "      <td>104.243.40.3</td>\n",
       "      <td>USA - Florida</td>\n",
       "      <td>Yes</td>\n",
       "    </tr>\n",
       "    <tr>\n",
       "      <th>2</th>\n",
       "      <td>Attackers 3</td>\n",
       "      <td>INTERNET,ACCESS_FINE_LOCATION,ACCESS_COARSE_LO...</td>\n",
       "      <td>Not Sensitive</td>\n",
       "      <td>http://www.5riversmarketing.com/</td>\n",
       "      <td>104.243.40.3</td>\n",
       "      <td>USA - Florida</td>\n",
       "      <td>No</td>\n",
       "    </tr>\n",
       "    <tr>\n",
       "      <th>3</th>\n",
       "      <td>Attackers 4</td>\n",
       "      <td>INTERNET,READ_PHONE_STATE,SEND_SMS</td>\n",
       "      <td>Not Sensitive</td>\n",
       "      <td>http://demo2.5riversmarketing.com/</td>\n",
       "      <td>104.243.40.3</td>\n",
       "      <td>USA - Florida</td>\n",
       "      <td>No</td>\n",
       "    </tr>\n",
       "    <tr>\n",
       "      <th>4</th>\n",
       "      <td>Attackers 5</td>\n",
       "      <td>INTERNET,READ_CONTACTS,READ_PHONE_STATE</td>\n",
       "      <td>Not Sensitive</td>\n",
       "      <td>http://www.5riversmarketing.com/</td>\n",
       "      <td>104.243.40.3</td>\n",
       "      <td>USA - Florida</td>\n",
       "      <td>No</td>\n",
       "    </tr>\n",
       "  </tbody>\n",
       "</table>\n",
       "</div>"
      ],
      "text/plain": [
       "     App Names                                        Permissions  \\\n",
       "0  XSSDetector  INTERNET,READ_CONTACTS,ACCESS_FINE_LOCATION,AC...   \n",
       "1  Attackers 2  INTERNET,READ_CONTACTS,ACCESS_FINE_LOCATION,AC...   \n",
       "2  Attackers 3  INTERNET,ACCESS_FINE_LOCATION,ACCESS_COARSE_LO...   \n",
       "3  Attackers 4                 INTERNET,READ_PHONE_STATE,SEND_SMS   \n",
       "4  Attackers 5            INTERNET,READ_CONTACTS,READ_PHONE_STATE   \n",
       "\n",
       "             API Name                        Website Name            IP  \\\n",
       "0         getDeviceId    http://www.5riversmarketing.com/  104.243.40.3   \n",
       "1  getSimSerialNumber    http://www.5riversmarketing.com/  104.243.40.3   \n",
       "2       Not Sensitive    http://www.5riversmarketing.com/  104.243.40.3   \n",
       "3       Not Sensitive  http://demo2.5riversmarketing.com/  104.243.40.3   \n",
       "4       Not Sensitive    http://www.5riversmarketing.com/  104.243.40.3   \n",
       "\n",
       "        Location Label  \n",
       "0  USA - Florida   Yes  \n",
       "1  USA - Florida   Yes  \n",
       "2  USA - Florida    No  \n",
       "3  USA - Florida    No  \n",
       "4  USA - Florida    No  "
      ]
     },
     "execution_count": 2,
     "metadata": {},
     "output_type": "execute_result"
    }
   ],
   "source": [
    "# https://data.mendeley.com/datasets/9jhzmswdfj/1 \n",
    "# df = pd.read_excel(\"XSS_dataset.xlsx\")\n",
    "\n",
    "file_path = \"https://drive.google.com/uc?export=download&id=1AFEgzMFqggjE0UCPiEJ4Utf5hMJWQ6MA\"\n",
    "df = pd.read_excel(file_path)\n",
    "df.head()"
   ]
  },
  {
   "cell_type": "code",
   "execution_count": null,
   "id": "516e1583",
   "metadata": {},
   "outputs": [],
   "source": [
    "# print(\"Unique App Names: \", len(pd.unique(df['App Names'])))\n",
    "# print(\"Unique Permissions: \", len(pd.unique(df['Permissions'])))\n",
    "# print(\"Unique API Names: \", len(pd.unique(df['API Name'])))\n",
    "# print(\"Unique Website Names: \", len(pd.unique(df['Website Name'])))\n",
    "# print(\"Unique IP: \", len(pd.unique(df['IP'])))\n",
    "# print(\"Unique Locations: \", len(pd.unique(df['Location'])))\n",
    "# print(\"Unique Label: \", len(pd.unique(df['Label'])))"
   ]
  },
  {
   "cell_type": "code",
   "execution_count": null,
   "id": "6a86a27b",
   "metadata": {},
   "outputs": [],
   "source": []
  },
  {
   "cell_type": "code",
   "execution_count": null,
   "id": "2925e1e0",
   "metadata": {},
   "outputs": [],
   "source": [
    "df.dtypes"
   ]
  },
  {
   "cell_type": "code",
   "execution_count": 3,
   "id": "a0f8255b",
   "metadata": {},
   "outputs": [],
   "source": [
    "# maps = {}\n",
    "def encode_strings_to_numeric(df):\n",
    "    encoded_df = pd.DataFrame()\n",
    "    index = 0\n",
    "    for col in df.columns:\n",
    "        if df[col].dtype == 'object':  # Checking if the column contains string/object data\n",
    "            unique_values = df[col].unique()  # Get unique values in the column\n",
    "            mapping = {value: i for i, value in enumerate(unique_values)}  # Create a mapping of unique values to numeric values\n",
    "            encoded_df[col] = df[col].map(mapping).fillna(df[col])  # Map string values to numeric using the mapping, keeping non-string values as is\n",
    "        else:\n",
    "            encoded_df[col] = df[col]  # If not a string column, keep the column as is\n",
    "        # maps[index] = mapping\n",
    "        index = index + 1\n",
    "\n",
    "    return encoded_df\n",
    "\n",
    "# Replace 'df' with your dataframe variable\n",
    "# Call the function to encode string data to numeric form\n",
    "encoded_df = encode_strings_to_numeric(df)\n",
    "df = encoded_df"
   ]
  },
  {
   "cell_type": "code",
   "execution_count": 4,
   "id": "802385f7",
   "metadata": {},
   "outputs": [],
   "source": [
    "encoded_df.to_csv(\"new.csv\")"
   ]
  },
  {
   "cell_type": "code",
   "execution_count": 5,
   "id": "ce3b8ce8",
   "metadata": {},
   "outputs": [
    {
     "data": {
      "text/html": [
       "<div>\n",
       "<style scoped>\n",
       "    .dataframe tbody tr th:only-of-type {\n",
       "        vertical-align: middle;\n",
       "    }\n",
       "\n",
       "    .dataframe tbody tr th {\n",
       "        vertical-align: top;\n",
       "    }\n",
       "\n",
       "    .dataframe thead th {\n",
       "        text-align: right;\n",
       "    }\n",
       "</style>\n",
       "<table border=\"1\" class=\"dataframe\">\n",
       "  <thead>\n",
       "    <tr style=\"text-align: right;\">\n",
       "      <th></th>\n",
       "      <th>App Names</th>\n",
       "      <th>Permissions</th>\n",
       "      <th>API Name</th>\n",
       "      <th>Website Name</th>\n",
       "      <th>IP</th>\n",
       "      <th>Location</th>\n",
       "      <th>Label</th>\n",
       "    </tr>\n",
       "  </thead>\n",
       "  <tbody>\n",
       "    <tr>\n",
       "      <th>460</th>\n",
       "      <td>31</td>\n",
       "      <td>14</td>\n",
       "      <td>15</td>\n",
       "      <td>117</td>\n",
       "      <td>118</td>\n",
       "      <td>95</td>\n",
       "      <td>0</td>\n",
       "    </tr>\n",
       "    <tr>\n",
       "      <th>461</th>\n",
       "      <td>32</td>\n",
       "      <td>9</td>\n",
       "      <td>2</td>\n",
       "      <td>118</td>\n",
       "      <td>119</td>\n",
       "      <td>96</td>\n",
       "      <td>0</td>\n",
       "    </tr>\n",
       "    <tr>\n",
       "      <th>462</th>\n",
       "      <td>33</td>\n",
       "      <td>10</td>\n",
       "      <td>16</td>\n",
       "      <td>119</td>\n",
       "      <td>120</td>\n",
       "      <td>97</td>\n",
       "      <td>0</td>\n",
       "    </tr>\n",
       "    <tr>\n",
       "      <th>463</th>\n",
       "      <td>34</td>\n",
       "      <td>15</td>\n",
       "      <td>17</td>\n",
       "      <td>120</td>\n",
       "      <td>121</td>\n",
       "      <td>98</td>\n",
       "      <td>0</td>\n",
       "    </tr>\n",
       "    <tr>\n",
       "      <th>464</th>\n",
       "      <td>35</td>\n",
       "      <td>16</td>\n",
       "      <td>18</td>\n",
       "      <td>121</td>\n",
       "      <td>122</td>\n",
       "      <td>99</td>\n",
       "      <td>0</td>\n",
       "    </tr>\n",
       "  </tbody>\n",
       "</table>\n",
       "</div>"
      ],
      "text/plain": [
       "     App Names  Permissions  API Name  Website Name   IP  Location  Label\n",
       "460         31           14        15           117  118        95      0\n",
       "461         32            9         2           118  119        96      0\n",
       "462         33           10        16           119  120        97      0\n",
       "463         34           15        17           120  121        98      0\n",
       "464         35           16        18           121  122        99      0"
      ]
     },
     "execution_count": 5,
     "metadata": {},
     "output_type": "execute_result"
    }
   ],
   "source": [
    "df.tail()"
   ]
  },
  {
   "cell_type": "code",
   "execution_count": null,
   "id": "db1e9f68",
   "metadata": {},
   "outputs": [],
   "source": []
  },
  {
   "cell_type": "code",
   "execution_count": 6,
   "id": "004b1561",
   "metadata": {
    "scrolled": true
   },
   "outputs": [
    {
     "data": {
      "text/plain": [
       "Label           1.000000\n",
       "API Name        0.746306\n",
       "Permissions     0.131816\n",
       "Website Name    0.020362\n",
       "Location        0.020211\n",
       "IP              0.019968\n",
       "App Names       0.011751\n",
       "Name: Label, dtype: float64"
      ]
     },
     "execution_count": 6,
     "metadata": {},
     "output_type": "execute_result"
    }
   ],
   "source": [
    "# check correlation of all attributes with target atttribute\n",
    "df.corr().abs()['Label'].sort_values(ascending = False)\n",
    "\n",
    "# API Name has highest correlation with Label"
   ]
  },
  {
   "cell_type": "code",
   "execution_count": null,
   "id": "41d2f7b1",
   "metadata": {
    "scrolled": true
   },
   "outputs": [],
   "source": []
  },
  {
   "cell_type": "code",
   "execution_count": 7,
   "id": "347f6797",
   "metadata": {},
   "outputs": [],
   "source": [
    "Y = df['Label']\n",
    "X = df.drop(['Label'], axis = 1)"
   ]
  },
  {
   "cell_type": "code",
   "execution_count": 8,
   "id": "46c44966",
   "metadata": {},
   "outputs": [],
   "source": [
    "from numpy import mean, std\n",
    "\n",
    "from sklearn.datasets import make_classification\n",
    "\n",
    "from sklearn.model_selection import cross_val_score, RepeatedStratifiedKFold\n",
    "\n",
    "from sklearn.linear_model import LogisticRegression\n",
    "from sklearn.neighbors import KNeighborsClassifier\n",
    "from sklearn.tree import DecisionTreeClassifier\n",
    "from sklearn.svm import SVC\n",
    "from sklearn.naive_bayes import GaussianNB\n",
    "from sklearn.preprocessing import StandardScaler # to standardize dataset\n",
    "\n",
    "from sklearn.pipeline import make_pipeline"
   ]
  },
  {
   "cell_type": "code",
   "execution_count": 9,
   "id": "80580d42",
   "metadata": {},
   "outputs": [],
   "source": [
    "def pipelined_models():\n",
    "    models = dict()\n",
    "    \n",
    "    models['logistic regression'] = make_pipeline(StandardScaler(), LogisticRegression())\n",
    "    models['KNeighborsClassifier'] = make_pipeline(StandardScaler(), KNeighborsClassifier())\n",
    "    models['DecisionTreeClassifier'] = make_pipeline(StandardScaler(), DecisionTreeClassifier())\n",
    "    models['SVC'] = make_pipeline(StandardScaler(), SVC())\n",
    "    models['GaussianNB'] = make_pipeline(StandardScaler(), GaussianNB())\n",
    "    \n",
    "    return models\n",
    "\n",
    "models = pipelined_models()"
   ]
  },
  {
   "cell_type": "code",
   "execution_count": 10,
   "id": "dccdf29d",
   "metadata": {},
   "outputs": [],
   "source": [
    "def model_evaluation(model, X, Y):\n",
    "    # cross_val : split data for both train and test to evaluate\n",
    "    # split k = 10 equal parts and train k - 1 parts and test on remaining\n",
    "    # stratified = same proportion of classes in each fold / part\n",
    "    # random state = consistency\n",
    "    cross_validation = RepeatedStratifiedKFold(n_splits = 10, n_repeats = 3, random_state = 1)\n",
    "    score_list = cross_val_score(model, X, Y, scoring = 'accuracy', cv = cross_validation, n_jobs = -1, error_score='raise')\n",
    "    return score_list"
   ]
  },
  {
   "cell_type": "code",
   "execution_count": 11,
   "id": "7d6390af",
   "metadata": {},
   "outputs": [
    {
     "name": "stdout",
     "output_type": "stream",
     "text": [
      "logistic regression 0.929 (0.039)\n",
      "KNeighborsClassifier 0.876 (0.047)\n",
      "DecisionTreeClassifier 0.996 (0.010)\n",
      "SVC 0.917 (0.036)\n",
      "GaussianNB 0.998 (0.006)\n"
     ]
    }
   ],
   "source": [
    "res = list()\n",
    "names = list()\n",
    "\n",
    "for name, model in models.items():\n",
    "    scores = model_evaluation(model, X, Y)\n",
    "    res.append(scores)\n",
    "    names.append(name)\n",
    "    print('%s %.3f (%.3f)' % (name, mean(scores), std(scores)))"
   ]
  },
  {
   "cell_type": "code",
   "execution_count": null,
   "id": "c6876194",
   "metadata": {},
   "outputs": [],
   "source": [
    "# only to compare\n",
    "import matplotlib.pyplot as plt\n",
    "plt.boxplot(res, labels = names, showmeans = True)\n",
    "plt.show()"
   ]
  },
  {
   "cell_type": "code",
   "execution_count": null,
   "id": "5c477784",
   "metadata": {},
   "outputs": [],
   "source": [
    "# Accuracy:\n",
    "    # Decision Tree: 99.6%\n",
    "    # Gaussian Naive Bayes: 99.8%\n",
    "    # Logistic regression: 92.9%\n",
    "    # KNeighborsClassifier 87.6%\n",
    "    # SVC 91.6%"
   ]
  },
  {
   "cell_type": "code",
   "execution_count": 12,
   "id": "0b6c1e1f",
   "metadata": {},
   "outputs": [],
   "source": [
    "from sklearn.model_selection import train_test_split\n",
    "X = df.drop(columns = 'Label')\n",
    "Y = df['Label']\n",
    "x_train, x_test, y_train, y_test = train_test_split(X, Y, test_size = 0.30, random_state = 42)"
   ]
  },
  {
   "cell_type": "code",
   "execution_count": null,
   "id": "73b5c648",
   "metadata": {},
   "outputs": [],
   "source": []
  },
  {
   "cell_type": "code",
   "execution_count": 23,
   "id": "cdcf983e",
   "metadata": {},
   "outputs": [
    {
     "name": "stdout",
     "output_type": "stream",
     "text": [
      "XGBoost Validation Accuracy(XGBoost): 0.9928571428571429\n"
     ]
    }
   ],
   "source": [
    "from xgboost import XGBClassifier\n",
    "from sklearn.metrics import accuracy_score\n",
    "\n",
    "model = XGBClassifier(random_state = 42)\n",
    "model.fit(x_train, y_train)\n",
    "y_val_pred = model.predict(x_test)\n",
    "\n",
    "accuracy = accuracy_score(y_test, y_val_pred)\n",
    "print(f\"XGBoost Validation Accuracy(XGBoost): {accuracy}\")"
   ]
  },
  {
   "cell_type": "code",
   "execution_count": 24,
   "id": "565c299e",
   "metadata": {},
   "outputs": [
    {
     "data": {
      "text/html": [
       "<style>#sk-container-id-2 {color: black;}#sk-container-id-2 pre{padding: 0;}#sk-container-id-2 div.sk-toggleable {background-color: white;}#sk-container-id-2 label.sk-toggleable__label {cursor: pointer;display: block;width: 100%;margin-bottom: 0;padding: 0.3em;box-sizing: border-box;text-align: center;}#sk-container-id-2 label.sk-toggleable__label-arrow:before {content: \"▸\";float: left;margin-right: 0.25em;color: #696969;}#sk-container-id-2 label.sk-toggleable__label-arrow:hover:before {color: black;}#sk-container-id-2 div.sk-estimator:hover label.sk-toggleable__label-arrow:before {color: black;}#sk-container-id-2 div.sk-toggleable__content {max-height: 0;max-width: 0;overflow: hidden;text-align: left;background-color: #f0f8ff;}#sk-container-id-2 div.sk-toggleable__content pre {margin: 0.2em;color: black;border-radius: 0.25em;background-color: #f0f8ff;}#sk-container-id-2 input.sk-toggleable__control:checked~div.sk-toggleable__content {max-height: 200px;max-width: 100%;overflow: auto;}#sk-container-id-2 input.sk-toggleable__control:checked~label.sk-toggleable__label-arrow:before {content: \"▾\";}#sk-container-id-2 div.sk-estimator input.sk-toggleable__control:checked~label.sk-toggleable__label {background-color: #d4ebff;}#sk-container-id-2 div.sk-label input.sk-toggleable__control:checked~label.sk-toggleable__label {background-color: #d4ebff;}#sk-container-id-2 input.sk-hidden--visually {border: 0;clip: rect(1px 1px 1px 1px);clip: rect(1px, 1px, 1px, 1px);height: 1px;margin: -1px;overflow: hidden;padding: 0;position: absolute;width: 1px;}#sk-container-id-2 div.sk-estimator {font-family: monospace;background-color: #f0f8ff;border: 1px dotted black;border-radius: 0.25em;box-sizing: border-box;margin-bottom: 0.5em;}#sk-container-id-2 div.sk-estimator:hover {background-color: #d4ebff;}#sk-container-id-2 div.sk-parallel-item::after {content: \"\";width: 100%;border-bottom: 1px solid gray;flex-grow: 1;}#sk-container-id-2 div.sk-label:hover label.sk-toggleable__label {background-color: #d4ebff;}#sk-container-id-2 div.sk-serial::before {content: \"\";position: absolute;border-left: 1px solid gray;box-sizing: border-box;top: 0;bottom: 0;left: 50%;z-index: 0;}#sk-container-id-2 div.sk-serial {display: flex;flex-direction: column;align-items: center;background-color: white;padding-right: 0.2em;padding-left: 0.2em;position: relative;}#sk-container-id-2 div.sk-item {position: relative;z-index: 1;}#sk-container-id-2 div.sk-parallel {display: flex;align-items: stretch;justify-content: center;background-color: white;position: relative;}#sk-container-id-2 div.sk-item::before, #sk-container-id-2 div.sk-parallel-item::before {content: \"\";position: absolute;border-left: 1px solid gray;box-sizing: border-box;top: 0;bottom: 0;left: 50%;z-index: -1;}#sk-container-id-2 div.sk-parallel-item {display: flex;flex-direction: column;z-index: 1;position: relative;background-color: white;}#sk-container-id-2 div.sk-parallel-item:first-child::after {align-self: flex-end;width: 50%;}#sk-container-id-2 div.sk-parallel-item:last-child::after {align-self: flex-start;width: 50%;}#sk-container-id-2 div.sk-parallel-item:only-child::after {width: 0;}#sk-container-id-2 div.sk-dashed-wrapped {border: 1px dashed gray;margin: 0 0.4em 0.5em 0.4em;box-sizing: border-box;padding-bottom: 0.4em;background-color: white;}#sk-container-id-2 div.sk-label label {font-family: monospace;font-weight: bold;display: inline-block;line-height: 1.2em;}#sk-container-id-2 div.sk-label-container {text-align: center;}#sk-container-id-2 div.sk-container {/* jupyter's `normalize.less` sets `[hidden] { display: none; }` but bootstrap.min.css set `[hidden] { display: none !important; }` so we also need the `!important` here to be able to override the default hidden behavior on the sphinx rendered scikit-learn.org. See: https://github.com/scikit-learn/scikit-learn/issues/21755 */display: inline-block !important;position: relative;}#sk-container-id-2 div.sk-text-repr-fallback {display: none;}</style><div id=\"sk-container-id-2\" class=\"sk-top-container\"><div class=\"sk-text-repr-fallback\"><pre>Pipeline(steps=[(&#x27;standardscaler&#x27;, StandardScaler()),\n",
       "                (&#x27;gaussiannb&#x27;, GaussianNB())])</pre><b>In a Jupyter environment, please rerun this cell to show the HTML representation or trust the notebook. <br />On GitHub, the HTML representation is unable to render, please try loading this page with nbviewer.org.</b></div><div class=\"sk-container\" hidden><div class=\"sk-item sk-dashed-wrapped\"><div class=\"sk-label-container\"><div class=\"sk-label sk-toggleable\"><input class=\"sk-toggleable__control sk-hidden--visually\" id=\"sk-estimator-id-4\" type=\"checkbox\" ><label for=\"sk-estimator-id-4\" class=\"sk-toggleable__label sk-toggleable__label-arrow\">Pipeline</label><div class=\"sk-toggleable__content\"><pre>Pipeline(steps=[(&#x27;standardscaler&#x27;, StandardScaler()),\n",
       "                (&#x27;gaussiannb&#x27;, GaussianNB())])</pre></div></div></div><div class=\"sk-serial\"><div class=\"sk-item\"><div class=\"sk-estimator sk-toggleable\"><input class=\"sk-toggleable__control sk-hidden--visually\" id=\"sk-estimator-id-5\" type=\"checkbox\" ><label for=\"sk-estimator-id-5\" class=\"sk-toggleable__label sk-toggleable__label-arrow\">StandardScaler</label><div class=\"sk-toggleable__content\"><pre>StandardScaler()</pre></div></div></div><div class=\"sk-item\"><div class=\"sk-estimator sk-toggleable\"><input class=\"sk-toggleable__control sk-hidden--visually\" id=\"sk-estimator-id-6\" type=\"checkbox\" ><label for=\"sk-estimator-id-6\" class=\"sk-toggleable__label sk-toggleable__label-arrow\">GaussianNB</label><div class=\"sk-toggleable__content\"><pre>GaussianNB()</pre></div></div></div></div></div></div></div>"
      ],
      "text/plain": [
       "Pipeline(steps=[('standardscaler', StandardScaler()),\n",
       "                ('gaussiannb', GaussianNB())])"
      ]
     },
     "execution_count": 24,
     "metadata": {},
     "output_type": "execute_result"
    }
   ],
   "source": [
    "# Accuracy for XGBoost: 99.2%, but for Decision Tree: 99.8%\n",
    "model = models['GaussianNB']\n",
    "\n",
    "#fitting the model\n",
    "model.fit(x_train, y_train)"
   ]
  },
  {
   "cell_type": "code",
   "execution_count": 25,
   "id": "4f141168",
   "metadata": {},
   "outputs": [],
   "source": [
    "def encode_ip(ip_data):\n",
    "    ip_col = ['App Names', 'Permissions', 'API Name', 'Website Name', 'IP', 'Location']\n",
    "    encoded_data = []\n",
    "    i = 0\n",
    "    for data in ip_data:\n",
    "        col = ip_col[i]\n",
    "        rows = df.index[df[col] == data].tolist()\n",
    "        row = 0\n",
    "        if(len(rows) != 0):\n",
    "            row = rows[0]\n",
    "        val = encoded_df.loc[row, col]\n",
    "        encoded_data.append(val)\n",
    "        i = i + 1\n",
    "    return encoded_data"
   ]
  },
  {
   "cell_type": "code",
   "execution_count": 26,
   "id": "ca30339b",
   "metadata": {},
   "outputs": [],
   "source": [
    "ip_data = ['SQUIRREL', 'DISABLE_KEYGUARD,EXPAND_STATUS_BAR,GET_PACKAGE_SIZE,INSTALL_SHORTCUT,INTERNET,KILL_BACKGROUND_PROCESSES,MANAGE_OWN_CALLS,MODIFY_AUDIO_SETTINGS,NFC,READ_SYNC_SETTINGS,READ_SYNC_STATS', 'Not Sensitive', 'https://www.bloomberg.com/', '109.8.27.15', 'France']\n",
    "encoded_data = encode_ip(ip_data)"
   ]
  },
  {
   "cell_type": "code",
   "execution_count": 27,
   "id": "02a940ea",
   "metadata": {},
   "outputs": [
    {
     "name": "stdout",
     "output_type": "stream",
     "text": [
      "XSS attack on the website.\n"
     ]
    }
   ],
   "source": [
    "ip_data_np = np.asarray(encoded_data)\n",
    "ip_data_reshape = ip_data_np.reshape(1, -1)\n",
    "pred = model.predict(ip_data_reshape)\n",
    "# print(pred)\n",
    "\n",
    "if pred[0] == 0:\n",
    "    print(\"XSS attack on the website.\")\n",
    "else:\n",
    "    print(\"No XSS attack on the website.\")"
   ]
  },
  {
   "cell_type": "code",
   "execution_count": null,
   "id": "29e34cdb",
   "metadata": {},
   "outputs": [],
   "source": []
  },
  {
   "cell_type": "code",
   "execution_count": null,
   "id": "772d2bd1",
   "metadata": {},
   "outputs": [],
   "source": []
  },
  {
   "cell_type": "code",
   "execution_count": 28,
   "id": "23a02b03",
   "metadata": {},
   "outputs": [],
   "source": [
    "import pickle"
   ]
  },
  {
   "cell_type": "code",
   "execution_count": 29,
   "id": "583f0443",
   "metadata": {},
   "outputs": [],
   "source": [
    "filename = \"xss_attack.sav\"\n",
    "pickle.dump(model, open(filename, \"wb\"))"
   ]
  },
  {
   "cell_type": "code",
   "execution_count": 31,
   "id": "4e052c05",
   "metadata": {},
   "outputs": [
    {
     "name": "stdout",
     "output_type": "stream",
     "text": [
      "XSS attack on the website.\n"
     ]
    }
   ],
   "source": [
    "ip_data = ['Attackers 4', 'INTERNET,READ_PHONE_STATE,SEND_SMS', 'Not Sensitive', 'http://demo2.5riversmarketing.com/', '104.243.40.3', 'USA - Florida']\n",
    "\n",
    "encoded_data = encode_ip(ip_data)\n",
    "    \n",
    "# print(encoded_data)\n",
    "ip_data_np = np.asarray(encoded_data)\n",
    "ip_data_reshape = ip_data_np.reshape(1, -1)\n",
    "pred = model.predict(ip_data_reshape)\n",
    "# print(pred)\n",
    "\n",
    "if pred[0] == 0:\n",
    "    print(\"XSS attack on the website.\")\n",
    "else:\n",
    "    print(\"No XSS attack on the website.\")\n"
   ]
  },
  {
   "cell_type": "code",
   "execution_count": null,
   "id": "df3d88c9",
   "metadata": {},
   "outputs": [],
   "source": []
  },
  {
   "cell_type": "code",
   "execution_count": null,
   "id": "393ad25c",
   "metadata": {},
   "outputs": [],
   "source": []
  },
  {
   "cell_type": "code",
   "execution_count": null,
   "id": "b5f51612",
   "metadata": {},
   "outputs": [],
   "source": []
  },
  {
   "cell_type": "code",
   "execution_count": null,
   "id": "5ca5947d",
   "metadata": {},
   "outputs": [],
   "source": []
  },
  {
   "cell_type": "code",
   "execution_count": null,
   "id": "967bc126",
   "metadata": {},
   "outputs": [],
   "source": []
  },
  {
   "cell_type": "code",
   "execution_count": null,
   "id": "f5886a9b",
   "metadata": {},
   "outputs": [],
   "source": []
  },
  {
   "cell_type": "code",
   "execution_count": null,
   "id": "3f9f487d",
   "metadata": {},
   "outputs": [],
   "source": []
  },
  {
   "cell_type": "code",
   "execution_count": null,
   "id": "5822df92",
   "metadata": {},
   "outputs": [],
   "source": []
  },
  {
   "cell_type": "code",
   "execution_count": null,
   "id": "b5aa50a5",
   "metadata": {},
   "outputs": [],
   "source": []
  },
  {
   "cell_type": "code",
   "execution_count": null,
   "id": "fe2a6ef9",
   "metadata": {},
   "outputs": [],
   "source": []
  },
  {
   "cell_type": "code",
   "execution_count": 22,
   "id": "568a44fa",
   "metadata": {},
   "outputs": [],
   "source": [
    "import warnings\n",
    "\n",
    "# Suppress the specific warning about feature names\n",
    "warnings.filterwarnings(\"ignore\", message=\"X does not have valid feature names, but StandardScaler was fitted with feature names\", category=UserWarning)\n"
   ]
  }
 ],
 "metadata": {
  "kernelspec": {
   "display_name": "Python 3 (ipykernel)",
   "language": "python",
   "name": "python3"
  },
  "language_info": {
   "codemirror_mode": {
    "name": "ipython",
    "version": 3
   },
   "file_extension": ".py",
   "mimetype": "text/x-python",
   "name": "python",
   "nbconvert_exporter": "python",
   "pygments_lexer": "ipython3",
   "version": "3.11.5"
  }
 },
 "nbformat": 4,
 "nbformat_minor": 5
}
